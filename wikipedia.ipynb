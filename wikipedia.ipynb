{
 "nbformat": 4,
 "nbformat_minor": 0,
 "metadata": {
  "colab": {
   "name": "Wikipedia.ipynb",
   "provenance": [],
   "collapsed_sections": [],
   "include_colab_link": true
  },
  "kernelspec": {
   "name": "python3",
   "display_name": "Python 3 (ipykernel)",
   "language": "python"
  },
  "language_info": {
   "name": "python"
  }
 },
 "cells": [
  {
   "cell_type": "markdown",
   "metadata": {
    "id": "Tirw9HnrTuau"
   },
   "source": "# Wikipedia pages graph from seed page"
  },
  {
   "cell_type": "code",
   "metadata": {
    "id": "MINWDN4gTzAC",
    "ExecuteTime": {
     "end_time": "2024-05-13T17:56:57.395365Z",
     "start_time": "2024-05-13T17:56:57.379616Z"
    }
   },
   "source": [
    "import networkx as nx\n",
    "import wikipedia\n",
    "from wikipedia import DisambiguationError, PageError\n",
    "import matplotlib.pyplot as plt"
   ],
   "outputs": [],
   "execution_count": 49
  },
  {
   "metadata": {},
   "cell_type": "markdown",
   "source": [
    "Set the seed page and the search depth. The search depth is the number of\n",
    "layers of neighbors to include in the network. e.g., if the search depth is 1,\n",
    "the network will include the seed page and all pages linked from the seed page."
   ]
  },
  {
   "cell_type": "code",
   "metadata": {
    "id": "YPTw8l5iT7z9",
    "ExecuteTime": {
     "end_time": "2024-05-13T17:56:57.428467Z",
     "start_time": "2024-05-13T17:56:57.395933Z"
    }
   },
   "source": [
    "SEARCH_DEPTH = 1  #Set the search depth here                       \n",
    "SEED = \"Roma Tre\"  #Set the seed page here\n",
    "\n",
    "STOPS = (\"International Standard Serial Number\",\n",
    "         \"International Standard Book Number\",\n",
    "         \"Geographic coordinate system\",\n",
    "         \"National Diet Library\",\n",
    "         \"International Standard Name Identifier\",\n",
    "         \"International Standard Book Number (Identifier)\",\n",
    "         \"Pubmed Identifier\",\n",
    "         \"Pubmed Central\",\n",
    "         \"Digital Object Identifier\",\n",
    "         \"Arxiv\",\n",
    "         \"Proc Natl Acad Sci Usa\",\n",
    "         \"Bibcode\",\n",
    "         \"Library Of Congress Control Number\",\n",
    "         \"Jstor\", \"JSTOR (identifier)\",\n",
    "         \"Doi (identifier)\", \"Doi (Identifier)\",\n",
    "         \"Isbn (Identifier)\", \"Isbn (identifier)\",\n",
    "         \"S2CID (identifier)\",\n",
    "         \"Pmid (Identifier)\",\n",
    "         \"Arxiv (Identifier)\",\n",
    "         \"Bibcode (Identifier)\")\n"
   ],
   "outputs": [],
   "execution_count": 50
  },
  {
   "metadata": {},
   "cell_type": "markdown",
   "source": "## 1.1 Setting up fringe and visited sets"
  },
  {
   "metadata": {
    "ExecuteTime": {
     "end_time": "2024-05-13T17:56:57.450691Z",
     "start_time": "2024-05-13T17:56:57.429003Z"
    }
   },
   "cell_type": "code",
   "source": [
    "SEED = SEED.title()\n",
    "fringe = [(0, SEED)]  # The queue of pages we have found but not yet visited\n",
    "done_set = set()  # The set of pages we have visited\n",
    "g = nx.DiGraph()  # The networkx graph, directed\n"
   ],
   "outputs": [],
   "execution_count": 51
  },
  {
   "metadata": {},
   "cell_type": "markdown",
   "source": [
    "## 1.2 Load the seed page\n",
    "Check whether the seed page exists."
   ]
  },
  {
   "metadata": {
    "ExecuteTime": {
     "end_time": "2024-05-13T17:56:58.538428Z",
     "start_time": "2024-05-13T17:56:57.451304Z"
    }
   },
   "cell_type": "code",
   "source": [
    "import sys\n",
    "\n",
    "layer, page = 0, SEED\n",
    "\n",
    "try:\n",
    "    source = wikipedia.page(SEED, auto_suggest=False)\n",
    "    done_set.add(SEED)\n",
    "    print(source.url)\n",
    "    print(f\"Page loaded, adding {len(source.links)} subpages\")\n",
    "except (DisambiguationError, PageError):\n",
    "    print(f\"Could not load seed {SEED}\")\n",
    "    print(\"Check if the page exists.\")\n",
    "    sys.exit(1)"
   ],
   "outputs": [
    {
     "name": "stdout",
     "output_type": "stream",
     "text": [
      "https://en.wikipedia.org/wiki/Newton-Smith\n",
      "Page loaded, adding 5 subpages\n"
     ]
    }
   ],
   "execution_count": 52
  },
  {
   "metadata": {
    "ExecuteTime": {
     "end_time": "2024-05-13T17:56:58.540842Z",
     "start_time": "2024-05-13T17:56:58.539103Z"
    }
   },
   "cell_type": "code",
   "source": [
    "def fetch_links(page):\n",
    "    try:\n",
    "        links = wikipedia.page(page).links\n",
    "        return links\n",
    "    except (DisambiguationError, PageError):\n",
    "        print(f\"Error retrieving links from {page}\")\n",
    "        return []"
   ],
   "outputs": [],
   "execution_count": 53
  },
  {
   "metadata": {},
   "cell_type": "markdown",
   "source": [
    "## 1.3 Build the network\n",
    "Using Breadth First Search (BFS) to build the network."
   ]
  },
  {
   "cell_type": "code",
   "metadata": {
    "id": "ucGHcQ4-hP4V",
    "colab": {
     "base_uri": "https://localhost:8080/"
    },
    "outputId": "1b47587f-7d13-4581-d3f5-1e67dbf43827",
    "ExecuteTime": {
     "end_time": "2024-05-13T17:59:18.611021Z",
     "start_time": "2024-05-13T17:56:58.541282Z"
    }
   },
   "source": [
    "%%time\n",
    "from concurrent.futures import ThreadPoolExecutor\n",
    "\n",
    "progress = {\"nodes\": [], \"fringe\": []}\n",
    "with ThreadPoolExecutor() as executor:\n",
    "    while fringe:\n",
    "        layer, page = fringe.pop(0)\n",
    "        done_set.add(page)\n",
    "        print(f\"{layer} - {page}, nodes: {len(done_set)}, fringe: {len(fringe)}\")\n",
    "\n",
    "        progress[\"nodes\"].append(len(done_set))\n",
    "        progress[\"fringe\"].append(len(fringe))\n",
    "\n",
    "        links = executor.submit(fetch_links, page).result()\n",
    "\n",
    "        for link in links:\n",
    "            g.add_edge(page, link)\n",
    "            if link not in STOPS and link not in done_set and not link.startswith(\"List of\"):\n",
    "                done_set.add(link)\n",
    "                if layer < SEARCH_DEPTH:\n",
    "                    fringe.append((layer + 1, link))\n"
   ],
   "outputs": [
    {
     "name": "stdout",
     "output_type": "stream",
     "text": [
      "0 - Newton-Smith, nodes: 1, fringe: 0\n",
      "1 - Apple Newton-Smith, nodes: 6, fringe: 4\n",
      "1 - Given name, nodes: 229, fringe: 226\n",
      "1 - Rain Newton-Smith, nodes: 804, fringe: 800\n",
      "1 - Surname, nodes: 815, fringe: 810\n",
      "1 - William Newton-Smith, nodes: 1226, fringe: 1220\n",
      "2 - ARM architecture, nodes: 1246, fringe: 1239\n",
      "Error retrieving links from ARM architecture\n",
      "2 - Acorn Computers, nodes: 1246, fringe: 1238\n",
      "2 - All Things Digital, nodes: 1539, fringe: 1237\n",
      "2 - Android operating system, nodes: 1790, fringe: 1236\n",
      "2 - AppleCD, nodes: 2750, fringe: 1235\n",
      "2 - AppleColor High-Resolution RGB Monitor, nodes: 2757, fringe: 1234\n",
      "2 - Apple 410 Color Plotter, nodes: 3005, fringe: 1233\n",
      "2 - Apple Adjustable Keyboard, nodes: 3011, fringe: 1232\n",
      "2 - Apple AudioVision 14 Display, nodes: 3022, fringe: 1231\n",
      "2 - Apple Bandai Pippin, nodes: 3036, fringe: 1230\n",
      "2 - Apple ColorSync/AppleVision 750 Display, nodes: 3239, fringe: 1229\n",
      "2 - Apple Communication Slot, nodes: 3239, fringe: 1228\n",
      "2 - Apple Daisy Wheel Printer, nodes: 3245, fringe: 1227\n",
      "2 - Apple Desktop Bus, nodes: 3255, fringe: 1226\n",
      "2 - Apple Dot Matrix Printer, nodes: 3424, fringe: 1225\n",
      "2 - Apple Extended Keyboard, nodes: 3431, fringe: 1224\n",
      "2 - Apple FileWare, nodes: 3442, fringe: 1223\n",
      "2 - Apple I, nodes: 3461, fringe: 1222\n",
      "Error retrieving links from Apple I\n",
      "2 - Apple II, nodes: 3461, fringe: 1221\n",
      "Error retrieving links from Apple II\n",
      "2 - Apple IIGS, nodes: 3461, fringe: 1220\n",
      "Error retrieving links from Apple IIGS\n",
      "2 - Apple III, nodes: 3461, fringe: 1219\n",
      "2 - Apple II Plus, nodes: 3543, fringe: 1218\n",
      "2 - Apple II serial cards, nodes: 3578, fringe: 1217\n",
      "2 - Apple II series, nodes: 3588, fringe: 1216\n",
      "Error retrieving links from Apple II series\n",
      "2 - Apple IIc, nodes: 3588, fringe: 1215\n",
      "2 - Apple IIc Plus, nodes: 3588, fringe: 1214\n",
      "Error retrieving links from Apple IIc Plus\n",
      "2 - Apple IIe, nodes: 3588, fringe: 1213\n",
      "Error retrieving links from Apple IIe\n",
      "2 - Apple IIe Card, nodes: 3588, fringe: 1212\n",
      "2 - Apple Inc., nodes: 3604, fringe: 1211\n",
      "Error retrieving links from Apple Inc.\n",
      "2 - Apple Interactive Television Box, nodes: 3604, fringe: 1210\n",
      "2 - Apple Lisa, nodes: 3620, fringe: 1209\n",
      "2 - Apple Macintosh Color Display, nodes: 3690, fringe: 1208\n"
     ]
    },
    {
     "ename": "KeyboardInterrupt",
     "evalue": "",
     "output_type": "error",
     "traceback": [
      "\u001B[0;31m---------------------------------------------------------------------------\u001B[0m",
      "\u001B[0;31mKeyboardInterrupt\u001B[0m                         Traceback (most recent call last)",
      "File \u001B[0;32m<timed exec>:13\u001B[0m\n",
      "File \u001B[0;32m~/anaconda3/lib/python3.11/concurrent/futures/_base.py:451\u001B[0m, in \u001B[0;36mFuture.result\u001B[0;34m(self, timeout)\u001B[0m\n\u001B[1;32m    448\u001B[0m \u001B[38;5;28;01melif\u001B[39;00m \u001B[38;5;28mself\u001B[39m\u001B[38;5;241m.\u001B[39m_state \u001B[38;5;241m==\u001B[39m FINISHED:\n\u001B[1;32m    449\u001B[0m     \u001B[38;5;28;01mreturn\u001B[39;00m \u001B[38;5;28mself\u001B[39m\u001B[38;5;241m.\u001B[39m__get_result()\n\u001B[0;32m--> 451\u001B[0m \u001B[38;5;28;43mself\u001B[39;49m\u001B[38;5;241;43m.\u001B[39;49m\u001B[43m_condition\u001B[49m\u001B[38;5;241;43m.\u001B[39;49m\u001B[43mwait\u001B[49m\u001B[43m(\u001B[49m\u001B[43mtimeout\u001B[49m\u001B[43m)\u001B[49m\n\u001B[1;32m    453\u001B[0m \u001B[38;5;28;01mif\u001B[39;00m \u001B[38;5;28mself\u001B[39m\u001B[38;5;241m.\u001B[39m_state \u001B[38;5;129;01min\u001B[39;00m [CANCELLED, CANCELLED_AND_NOTIFIED]:\n\u001B[1;32m    454\u001B[0m     \u001B[38;5;28;01mraise\u001B[39;00m CancelledError()\n",
      "File \u001B[0;32m~/anaconda3/lib/python3.11/threading.py:320\u001B[0m, in \u001B[0;36mCondition.wait\u001B[0;34m(self, timeout)\u001B[0m\n\u001B[1;32m    318\u001B[0m \u001B[38;5;28;01mtry\u001B[39;00m:    \u001B[38;5;66;03m# restore state no matter what (e.g., KeyboardInterrupt)\u001B[39;00m\n\u001B[1;32m    319\u001B[0m     \u001B[38;5;28;01mif\u001B[39;00m timeout \u001B[38;5;129;01mis\u001B[39;00m \u001B[38;5;28;01mNone\u001B[39;00m:\n\u001B[0;32m--> 320\u001B[0m         \u001B[43mwaiter\u001B[49m\u001B[38;5;241;43m.\u001B[39;49m\u001B[43macquire\u001B[49m\u001B[43m(\u001B[49m\u001B[43m)\u001B[49m\n\u001B[1;32m    321\u001B[0m         gotit \u001B[38;5;241m=\u001B[39m \u001B[38;5;28;01mTrue\u001B[39;00m\n\u001B[1;32m    322\u001B[0m     \u001B[38;5;28;01melse\u001B[39;00m:\n",
      "\u001B[0;31mKeyboardInterrupt\u001B[0m: "
     ]
    }
   ],
   "execution_count": 54
  },
  {
   "metadata": {
    "ExecuteTime": {
     "end_time": "2024-05-13T17:59:18.758790Z",
     "start_time": "2024-05-13T17:59:18.611603Z"
    }
   },
   "cell_type": "code",
   "source": [
    "#plotting the progress\n",
    "plt.figure(\"Progress\", figsize=(8, 8))\n",
    "plt.plot(progress[\"nodes\"], label=\"Nodes\", color=\"royalblue\", linestyle=\"-\")\n",
    "plt.plot(progress[\"fringe\"], label=\"Fringe\", color=\"salmon\", linestyle=\"--\")\n",
    "# log scale\n",
    "plt.yscale(\"log\")\n",
    "plt.xlabel(\"Iterations\")\n",
    "plt.ylabel(\"Count\")\n",
    "plt.title(\"Progress\")\n",
    "plt.legend()\n",
    "plt.show()\n"
   ],
   "outputs": [
    {
     "data": {
      "text/plain": [
       "<Figure size 800x800 with 1 Axes>"
      ],
      "image/png": "[encoded data removed]"
     },
     "metadata": {},
     "output_type": "display_data"
    }
   ],
   "execution_count": 55
  },
  {
   "cell_type": "code",
   "metadata": {
    "id": "JrtewM_hPqJa",
    "colab": {
     "base_uri": "https://localhost:8080/"
    },
    "outputId": "4ef9d58d-fcef-4e4a-a51e-d96551a6af2a",
    "ExecuteTime": {
     "end_time": "2024-05-13T17:59:18.762298Z",
     "start_time": "2024-05-13T17:59:18.759542Z"
    }
   },
   "source": "print(f\"{g.number_of_nodes()} nodes, {g.number_of_edges()} edges\")",
   "outputs": [
    {
     "name": "stdout",
     "output_type": "stream",
     "text": [
      "3736 nodes, 8211 edges\n"
     ]
    }
   ],
   "execution_count": 56
  },
  {
   "cell_type": "markdown",
   "metadata": {
    "id": "5zRjfGLtZ2qB"
   },
   "source": "## 1.4 Explore the network"
  },
  {
   "cell_type": "code",
   "metadata": {
    "id": "gwlRxZ2kmDL-",
    "colab": {
     "base_uri": "https://localhost:8080/"
    },
    "outputId": "7599c2e8-8756-4ab4-93bb-b941cc9ce467",
    "ExecuteTime": {
     "end_time": "2024-05-13T17:59:19.062555Z",
     "start_time": "2024-05-13T17:59:18.763022Z"
    }
   },
   "source": [
    "import numpy as np\n",
    "\n",
    "degree_sequence = sorted((d for _, d in g.degree()))\n",
    "\n",
    "fig = plt.figure(\"Degree of a random graph\", figsize=(8, 8))\n",
    "# Create a gridspec for adding subplots of different sizes\n",
    "axgrid = fig.add_gridspec(5, 4)\n",
    "\n",
    "ax1 = fig.add_subplot(axgrid[3:, :2])\n",
    "ax1.plot(degree_sequence)\n",
    "ax1.set_title(\"Degree Rank Plot\")\n",
    "ax1.set_ylabel(\"Degree\")\n",
    "ax1.set_yscale(\"log\")\n",
    "ax1.set_xlabel(\"Rank\")\n",
    "\n",
    "ax2 = fig.add_subplot(axgrid[3:, 2:])\n",
    "ax2.bar(*np.unique(degree_sequence, return_counts=True))\n",
    "ax2.set_xlim([0, 100])\n",
    "ax2.set_title(\"Degree histogram\")\n",
    "ax2.set_xlabel(\"Degree\")\n",
    "ax2.set_yscale(\"log\")\n",
    "ax2.set_ylabel(\"# of Nodes\")\n",
    "\n",
    "fig.tight_layout()\n",
    "plt.show()"
   ],
   "outputs": [
    {
     "data": {
      "text/plain": [
       "<Figure size 800x800 with 2 Axes>"
      ],
      "image/png": "[encoded data removed]"
     },
     "metadata": {},
     "output_type": "display_data"
    }
   ],
   "execution_count": 57
  },
  {
   "metadata": {},
   "cell_type": "markdown",
   "source": "## 1.5 Save the graph in Gephi readable format"
  },
  {
   "metadata": {
    "ExecuteTime": {
     "end_time": "2024-05-13T17:59:19.118088Z",
     "start_time": "2024-05-13T17:59:19.063053Z"
    }
   },
   "cell_type": "code",
   "source": "nx.write_gexf(g, f\"graphs/{SEED}_d{SEARCH_DEPTH}.gexf\")",
   "outputs": [],
   "execution_count": 58
  }
 ]
}
