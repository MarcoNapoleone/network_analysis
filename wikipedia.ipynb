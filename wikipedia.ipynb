{
 "nbformat": 4,
 "nbformat_minor": 0,
 "metadata": {
  "colab": {
   "name": "Wikipedia.ipynb",
   "provenance": [],
   "collapsed_sections": [],
   "include_colab_link": true
  },
  "kernelspec": {
   "name": "python3",
   "display_name": "Python 3 (ipykernel)",
   "language": "python"
  },
  "language_info": {
   "name": "python"
  }
 },
 "cells": [
  {
   "cell_type": "markdown",
   "metadata": {
    "id": "Tirw9HnrTuau"
   },
   "source": "# Wikipedia pages graph from seed page"
  },
  {
   "cell_type": "code",
   "metadata": {
    "id": "MINWDN4gTzAC",
    "ExecuteTime": {
     "end_time": "2024-05-14T08:53:54.316193Z",
     "start_time": "2024-05-14T08:53:54.311468Z"
    }
   },
   "source": [
    "import networkx as nx\n",
    "import wikipedia\n",
    "from wikipedia import DisambiguationError, PageError\n",
    "import matplotlib.pyplot as plt"
   ],
   "outputs": [],
   "execution_count": 11
  },
  {
   "metadata": {},
   "cell_type": "markdown",
   "source": [
    "Set the seed page and the search depth. The search depth is the number of\n",
    "layers of neighbors to include in the network. e.g., if the search depth is 1,\n",
    "the network will include the seed page and all pages linked from the seed page."
   ]
  },
  {
   "cell_type": "code",
   "metadata": {
    "id": "YPTw8l5iT7z9",
    "ExecuteTime": {
     "end_time": "2024-05-14T08:53:54.366497Z",
     "start_time": "2024-05-14T08:53:54.361594Z"
    }
   },
   "source": [
    "SEARCH_DEPTH = 1  #Set the search depth here                       \n",
    "SEED = \"Roma Tre\"  #Set the seed page here\n",
    "\n",
    "STOPS = (\"International Standard Serial Number\",\n",
    "         \"International Standard Book Number\",\n",
    "         \"Geographic coordinate system\",\n",
    "         \"National Diet Library\",\n",
    "         \"International Standard Name Identifier\",\n",
    "         \"International Standard Book Number (Identifier)\",\n",
    "         \"Pubmed Identifier\",\n",
    "         \"Pubmed Central\",\n",
    "         \"Digital Object Identifier\",\n",
    "         \"Arxiv\",\n",
    "         \"Proc Natl Acad Sci Usa\",\n",
    "         \"Bibcode\",\n",
    "         \"Library Of Congress Control Number\",\n",
    "         \"Jstor\", \"JSTOR (identifier)\",\n",
    "         \"Doi (identifier)\", \"Doi (Identifier)\",\n",
    "         \"Isbn (Identifier)\", \"Isbn (identifier)\",\n",
    "         \"S2CID (identifier)\",\n",
    "         \"Pmid (Identifier)\",\n",
    "         \"Arxiv (Identifier)\",\n",
    "         \"Bibcode (Identifier)\")\n"
   ],
   "outputs": [],
   "execution_count": 12
  },
  {
   "metadata": {},
   "cell_type": "markdown",
   "source": "## 1.1 Setting up fringe and visited sets"
  },
  {
   "metadata": {
    "ExecuteTime": {
     "end_time": "2024-05-14T08:53:54.387275Z",
     "start_time": "2024-05-14T08:53:54.381136Z"
    }
   },
   "cell_type": "code",
   "source": [
    "SEED = SEED.title()\n",
    "fringe = [(0, SEED)]  # The queue of pages we have found but not yet visited\n",
    "done_set = set()  # The set of pages we have visited\n",
    "g = nx.DiGraph()  # The networkx graph, directed\n"
   ],
   "outputs": [],
   "execution_count": 13
  },
  {
   "metadata": {},
   "cell_type": "markdown",
   "source": [
    "## 1.2 Load the seed page\n",
    "Check whether the seed page exists."
   ]
  },
  {
   "metadata": {
    "ExecuteTime": {
     "end_time": "2024-05-14T08:53:55.577243Z",
     "start_time": "2024-05-14T08:53:54.402803Z"
    }
   },
   "cell_type": "code",
   "source": [
    "import sys\n",
    "\n",
    "layer, page = 0, SEED\n",
    "\n",
    "try:\n",
    "    source = wikipedia.page(SEED, auto_suggest=False)\n",
    "    done_set.add(SEED)\n",
    "    print(source.url)\n",
    "    print(f\"Page loaded, adding {len(source.links)} subpages\")\n",
    "except (DisambiguationError, PageError):\n",
    "    print(f\"Could not load seed {SEED}\")\n",
    "    print(\"Check if the page exists.\")\n",
    "    sys.exit(1)"
   ],
   "outputs": [
    {
     "name": "stdout",
     "output_type": "stream",
     "text": [
      "https://en.wikipedia.org/wiki/Roma_Tre_University\n",
      "Page loaded, adding 293 subpages\n"
     ]
    }
   ],
   "execution_count": 14
  },
  {
   "metadata": {},
   "cell_type": "markdown",
   "source": [
    "## 1.3 Build the network\n",
    "Using Breadth First Search (BFS) to build the network."
   ]
  },
  {
   "cell_type": "code",
   "metadata": {
    "id": "ucGHcQ4-hP4V",
    "colab": {
     "base_uri": "https://localhost:8080/"
    },
    "outputId": "1b47587f-7d13-4581-d3f5-1e67dbf43827",
    "ExecuteTime": {
     "end_time": "2024-05-14T08:57:30.738838Z",
     "start_time": "2024-05-14T08:53:55.580476Z"
    }
   },
   "source": [
    "%%time\n",
    "\n",
    "progress = {\"nodes\": [], \"fringe\": []}\n",
    "\n",
    "while fringe:\n",
    "\n",
    "    print(f\"{layer} - {page}, nodes: {len(done_set)}, fringe: {len(fringe)}\")\n",
    "    layer, page = fringe.pop(0)\n",
    "\n",
    "    progress[\"nodes\"].append(len(done_set))\n",
    "    progress[\"fringe\"].append(len(fringe))\n",
    "\n",
    "    try:\n",
    "        links = wikipedia.page(page).links\n",
    "    except (DisambiguationError, PageError):\n",
    "        print(f\"Error retrieving links from {page}\")\n",
    "        continue\n",
    "\n",
    "    for link in links:\n",
    "        g.add_edge(page, link)\n",
    "        if link not in STOPS and link not in done_set and not link.startswith(\"List of\"):\n",
    "            done_set.add(link)\n",
    "            if layer < SEARCH_DEPTH:\n",
    "                fringe.append((layer + 1, link))"
   ],
   "outputs": [
    {
     "name": "stdout",
     "output_type": "stream",
     "text": [
      "0 - Roma Tre, nodes: 1, fringe: 1\n",
      "0 - Roma Tre, nodes: 292, fringe: 291\n",
      "1 - Academic Senate, nodes: 369, fringe: 290\n",
      "1 - Al-Arab Medical University, nodes: 374, fringe: 289\n",
      "1 - Al-Azhar University – Gaza, nodes: 488, fringe: 288\n",
      "1 - Al-Baath University, nodes: 496, fringe: 287\n",
      "1 - Al Fateh University, nodes: 1002, fringe: 286\n",
      "1 - Al al-Bayt University, nodes: 1036, fringe: 285\n",
      "1 - Alessandro Di Battista, nodes: 1070, fringe: 284\n",
      "1 - Alexandria University, nodes: 1162, fringe: 283\n",
      "1 - Allumiere, nodes: 1306, fringe: 282\n",
      "1 - American University of Rome, nodes: 1379, fringe: 281\n",
      "1 - Amos Luzzatto, nodes: 1406, fringe: 280\n",
      "1 - An-Najah National University, nodes: 1439, fringe: 279\n",
      "Error retrieving links from Andrea Alù\n",
      "1 - Andrea Alù, nodes: 1439, fringe: 278\n",
      "1 - Andrea Riccardi, nodes: 1538, fringe: 277\n",
      "1 - Ankara University, nodes: 1868, fringe: 276\n",
      "1 - Antonio Ruberti, nodes: 1961, fringe: 275\n",
      "1 - Aosta Valley University, nodes: 1964, fringe: 274\n",
      "1 - Arab Academy for Science and Technology and Maritime Transport, nodes: 1978, fringe: 273\n",
      "1 - Athletic nickname, nodes: 2036, fringe: 272\n",
      "1 - Basilica of Saint Paul Outside the Walls, nodes: 2776, fringe: 271\n",
      "1 - Ben-Gurion University of the Negev, nodes: 2847, fringe: 270\n",
      "1 - Bethlehem University, nodes: 2879, fringe: 269\n",
      "1 - Birzeit University, nodes: 2896, fringe: 268\n",
      "1 - Board of Governors, nodes: 3220, fringe: 267\n",
      "1 - Bocconi University, nodes: 3454, fringe: 266\n",
      "1 - Ca' Foscari University of Venice, nodes: 3539, fringe: 265\n",
      "1 - Cadi Ayyad University, nodes: 3647, fringe: 264\n",
      "1 - Cairo University, nodes: 3746, fringe: 263\n",
      "1 - Carlo Azeglio Ciampi, nodes: 3961, fringe: 262\n",
      "1 - Carthage University, nodes: 3971, fringe: 261\n",
      "1 - Charles III University of Madrid, nodes: 4082, fringe: 260\n",
      "1 - Charles University in Prague, nodes: 4460, fringe: 259\n",
      "1 - Ciampino, nodes: 4481, fringe: 258\n",
      "1 - Cinzia Giorgio, nodes: 4506, fringe: 257\n",
      "1 - College and university rankings, nodes: 4731, fringe: 256\n",
      "1 - Comenius University in Bratislava, nodes: 4876, fringe: 255\n",
      "1 - Complutense University of Madrid, nodes: 5053, fringe: 254\n",
      "1 - Cyprus University of Technology, nodes: 5087, fringe: 253\n",
      "1 - D'Annunzio University of Chieti–Pescara, nodes: 5175, fringe: 252\n",
      "1 - Damascus University, nodes: 5264, fringe: 251\n",
      "1 - ESCP Europe, nodes: 5709, fringe: 250\n",
      "1 - Entrance examination, nodes: 5743, fringe: 249\n",
      "1 - European University Association, nodes: 5793, fringe: 248\n",
      "1 - Eötvös Loránd University, nodes: 6048, fringe: 247\n",
      "1 - Financial endowment, nodes: 6198, fringe: 246\n",
      "1 - Foreigners University of Siena, nodes: 6203, fringe: 245\n",
      "1 - Foro Italico University of Rome, nodes: 6255, fringe: 244\n",
      "1 - Free University of Bozen-Bolzano, nodes: 6282, fringe: 243\n",
      "1 - Freie Universität Berlin, nodes: 6706, fringe: 242\n",
      "1 - Giacomo Marramao, nodes: 6747, fringe: 241\n",
      "1 - Giorgio Melchiori, nodes: 6783, fringe: 240\n",
      "1 - Giorgio Napolitano, nodes: 7114, fringe: 239\n",
      "1 - Giuseppe Conte, nodes: 7383, fringe: 238\n",
      "1 - Guglielmo Marconi University, nodes: 7392, fringe: 237\n",
      "1 - Hashemite University, nodes: 7412, fringe: 236\n",
      "1 - Heads of state, nodes: 8169, fringe: 235\n",
      "1 - Hebrew University of Jerusalem, nodes: 8591, fringe: 234\n",
      "1 - Higher School of Economics, nodes: 8755, fringe: 233\n",
      "1 - Holy Spirit University of Kaslik, nodes: 8760, fringe: 232\n",
      "1 - Humanitas University, nodes: 8784, fringe: 231\n",
      "1 - Humboldt University of Berlin, nodes: 8939, fringe: 230\n",
      "1 - IMT School for Advanced Studies Lucca, nodes: 8954, fringe: 229\n",
      "1 - IULM University of Milan, nodes: 8958, fringe: 228\n",
      "Error retrieving links from Ibnou Zohr University\n",
      "1 - Ibnou Zohr University, nodes: 8958, fringe: 227\n",
      "1 - Igor Sikorsky Kyiv Polytechnic Institute, nodes: 9089, fringe: 226\n",
      "1 - Institutional Network of the Universities from the Capitals of Europe, nodes: 9100, fringe: 225\n",
      "1 - International School for Advanced Studies, nodes: 9141, fringe: 224\n",
      "1 - International University College of Turin, nodes: 9183, fringe: 223\n",
      "1 - Istituto Superiore per le Industrie Artistiche, nodes: 9198, fringe: 222\n",
      "1 - Italian Institute of Human Sciences (SUM), nodes: 9205, fringe: 221\n",
      "1 - Italian language, nodes: 10201, fringe: 220\n",
      "1 - Jean Monnet Programme, nodes: 10253, fringe: 219\n",
      "1 - John Cabot University, nodes: 10280, fringe: 218\n",
      "1 - John Felice Rome Center, nodes: 10318, fringe: 217\n",
      "Error retrieving links from John Paul II\n",
      "1 - John Paul II, nodes: 10318, fringe: 216\n",
      "1 - Jordan University of Science and Technology, nodes: 10430, fringe: 215\n",
      "1 - Josep Borrell Fontelles, nodes: 10861, fringe: 214\n",
      "1 - Joseph Pace, nodes: 10915, fringe: 213\n",
      "Error retrieving links from Kerry Kennedy\n",
      "1 - Kerry Kennedy, nodes: 10915, fringe: 212\n",
      "1 - King's College London, nodes: 11822, fringe: 211\n",
      "1 - Kore University of Enna, nodes: 11825, fringe: 210\n",
      "Error retrieving links from La Repubblica\n",
      "1 - La Repubblica, nodes: 11825, fringe: 209\n",
      "1 - Leah Rabin, nodes: 11868, fringe: 208\n",
      "1 - Lebanese University, nodes: 11902, fringe: 207\n",
      "1 - Levriero Italiano, nodes: 12161, fringe: 206\n",
      "1 - Libera Università Internazionale degli Studi Sociali Guido Carli, nodes: 12231, fringe: 205\n",
      "1 - Libera Università Maria SS. Assunta, nodes: 12260, fringe: 204\n",
      "1 - Libera Università Mediterranea, nodes: 12262, fringe: 203\n",
      "1 - Link Campus University, nodes: 12268, fringe: 202\n",
      "1 - Lorenzo de' Medici School, nodes: 12326, fringe: 201\n",
      "1 - Luciano del Castillo, nodes: 12355, fringe: 200\n",
      "Error retrieving links from MIUR\n",
      "1 - MIUR, nodes: 12355, fringe: 199\n",
      "1 - Magna Græcia University, nodes: 12355, fringe: 198\n",
      "1 - Magnifico Rettore, nodes: 12535, fringe: 197\n",
      "1 - Marche Polytechnic University, nodes: 12537, fringe: 196\n",
      "1 - Marco Lo Muscio, nodes: 12707, fringe: 195\n",
      "1 - Marco Travaglio, nodes: 12806, fringe: 194\n",
      "1 - Mario De Caro, nodes: 12825, fringe: 193\n",
      "1 - Master's degree, nodes: 12960, fringe: 192\n",
      "1 - Mediterranean Universities Union, nodes: 12961, fringe: 191\n",
      "1 - Michelle Bachelet, nodes: 13386, fringe: 190\n",
      "1 - Middle East Technical University, nodes: 13611, fringe: 189\n",
      "1 - Million, nodes: 14791, fringe: 188\n",
      "1 - Ministry of Public Education (Italy), nodes: 14884, fringe: 187\n",
      "1 - Mohammed V University, nodes: 15095, fringe: 186\n",
      "1 - Montpellier 2 University, nodes: 15416, fringe: 185\n",
      "1 - Moscow State University, nodes: 15609, fringe: 184\n",
      "1 - Mouloud Mammeri University of Tizi-Ouzou, nodes: 15762, fringe: 183\n",
      "1 - Naples Eastern University, nodes: 15790, fringe: 182\n",
      "1 - National and Kapodistrian University of Athens, nodes: 16030, fringe: 181\n",
      "1 - Network of Universities from the Capitals of Europe, nodes: 16030, fringe: 180\n",
      "1 - Nova Southeastern University, nodes: 16319, fringe: 179\n",
      "1 - Ombudsman, nodes: 16703, fringe: 178\n",
      "1 - Organizational ombudsman, nodes: 16746, fringe: 177\n",
      "1 - Oscar Luigi Scalfaro, nodes: 16814, fringe: 176\n",
      "1 - Ostiense, nodes: 16918, fringe: 175\n",
      "1 - Panteion University, nodes: 16960, fringe: 174\n",
      "1 - Paolo Leon, nodes: 16967, fringe: 173\n",
      "1 - Paris 8 University, nodes: 17067, fringe: 172\n",
      "1 - Paris Sciences et Lettres University, nodes: 17261, fringe: 171\n",
      "1 - Parthenope University of Naples, nodes: 17278, fringe: 170\n",
      "1 - Paul Cézanne University, nodes: 17471, fringe: 169\n",
      "1 - Philippe Busquin, nodes: 17496, fringe: 168\n",
      "1 - Pier Luigi Luisi, nodes: 17502, fringe: 167\n",
      "1 - Pierangelo Garegnani, nodes: 17514, fringe: 166\n",
      "1 - Polytechnic University of Bari, nodes: 17519, fringe: 165\n",
      "1 - Polytechnic University of Milan, nodes: 17726, fringe: 164\n",
      "1 - Polytechnic University of Turin, nodes: 17813, fringe: 163\n",
      "1 - Pontifical Croatian College of St. Jerome, nodes: 17924, fringe: 162\n",
      "1 - Pontifical Gregorian University, nodes: 18053, fringe: 161\n",
      "1 - Pontifical North American College, nodes: 18107, fringe: 160\n",
      "Error retrieving links from Pope Francis\n",
      "1 - Pope Francis, nodes: 18107, fringe: 159\n",
      "1 - Public research university, nodes: 18378, fringe: 158\n",
      "1 - Public university, nodes: 18378, fringe: 157\n",
      "1 - Raffaele Monti, nodes: 18398, fringe: 156\n",
      "1 - Rector (academia), nodes: 18398, fringe: 155\n",
      "Error retrieving links from Research Papers in Economics\n",
      "1 - Research Papers in Economics, nodes: 18398, fringe: 154\n",
      "1 - Roberto Cipriani, nodes: 18407, fringe: 153\n",
      "1 - Romano Prodi, nodes: 18684, fringe: 152\n",
      "1 - Rome, nodes: 19180, fringe: 151\n",
      "1 - S. Pio V University of Rome, nodes: 19181, fringe: 150\n",
      "1 - Sant'Anna School of Advanced Studies, nodes: 19253, fringe: 149\n",
      "1 - Sapienza University of Rome, nodes: 19414, fringe: 148\n",
      "1 - School colors, nodes: 19455, fringe: 147\n",
      "1 - Scuola Normale Superiore di Pisa, nodes: 19545, fringe: 146\n",
      "1 - Scuola Superiore Studi Pavia IUSS, nodes: 19550, fringe: 145\n",
      "1 - Seconda Università degli Studi di Napoli, nodes: 19553, fringe: 144\n",
      "1 - Shirin Ebadi, nodes: 19830, fringe: 143\n",
      "Error retrieving links from Sofia University\n",
      "1 - Sofia University, nodes: 19830, fringe: 142\n",
      "1 - Ss. Cyril and Methodius University of Skopje, nodes: 20080, fringe: 141\n",
      "1 - St. John's University (Italy), nodes: 20085, fringe: 140\n",
      "1 - Stockholm University, nodes: 20197, fringe: 139\n",
      "1 - Student newspaper, nodes: 20280, fringe: 138\n",
      "1 - Students' representative council, nodes: 20291, fringe: 137\n",
      "1 - Suor Orsola Benincasa University of Naples, nodes: 20293, fringe: 136\n",
      "1 - Superior Graduate Schools in Italy, nodes: 20301, fringe: 135\n",
      "1 - Tallinn University, nodes: 20450, fringe: 134\n",
      "1 - Tallinn University of Technology, nodes: 20549, fringe: 133\n",
      "1 - Tampere University, nodes: 20669, fringe: 132\n",
      "1 - Tel Aviv University, nodes: 20868, fringe: 131\n",
      "1 - Temple University Rome, nodes: 20907, fringe: 130\n",
      "1 - Tishreen University, nodes: 20908, fringe: 129\n",
      "1 - Tommaso Padoa-Schioppa, nodes: 20945, fringe: 128\n",
      "1 - Tunis El Manar University, nodes: 21152, fringe: 127\n",
      "1 - Tunis University, nodes: 21172, fringe: 126\n",
      "1 - Tuscia University, nodes: 21177, fringe: 125\n",
      "1 - Undergraduate degree, nodes: 21195, fringe: 124\n",
      "1 - Universidade Nova de Lisboa, nodes: 21210, fringe: 123\n",
      "1 - University Carlo Cattaneo, nodes: 21221, fringe: 122\n",
      "1 - University College Dublin, nodes: 21697, fringe: 121\n",
      "1 - University for Foreigners Perugia, nodes: 21716, fringe: 120\n",
      "1 - University of Abou Bekr Belkaïd, nodes: 21743, fringe: 119\n",
      "1 - University of Aleppo, nodes: 22024, fringe: 118\n",
      "1 - University of Algiers, nodes: 22077, fringe: 117\n",
      "1 - University of Amsterdam, nodes: 22261, fringe: 116\n",
      "1 - University of Annaba, nodes: 22477, fringe: 115\n",
      "1 - University of Aveiro, nodes: 22504, fringe: 114\n",
      "1 - University of Barcelona, nodes: 22750, fringe: 113\n",
      "1 - University of Bari, nodes: 22759, fringe: 112\n",
      "1 - University of Basilicata, nodes: 22762, fringe: 111\n",
      "1 - University of Belgrade, nodes: 22929, fringe: 110\n",
      "1 - University of Bergamo, nodes: 22946, fringe: 109\n",
      "1 - University of Blida, nodes: 23023, fringe: 108\n",
      "1 - University of Bologna, nodes: 23238, fringe: 107\n",
      "1 - University of Brasilia, nodes: 23458, fringe: 106\n",
      "1 - University of Brescia, nodes: 23464, fringe: 105\n",
      "1 - University of Bucharest, nodes: 23706, fringe: 104\n",
      "1 - University of Béjaïa, nodes: 23710, fringe: 103\n",
      "1 - University of Cagliari, nodes: 23736, fringe: 102\n",
      "1 - University of Calabria, nodes: 23752, fringe: 101\n",
      "1 - University of California, Berkeley, nodes: 24931, fringe: 100\n",
      "1 - University of Camerino, nodes: 24937, fringe: 99\n",
      "1 - University of Cassino, nodes: 24940, fringe: 98\n",
      "1 - University of Catania, nodes: 24979, fringe: 97\n",
      "1 - University of Copenhagen, nodes: 25380, fringe: 96\n",
      "1 - University of Cyprus, nodes: 25396, fringe: 95\n",
      "1 - University of Córdoba (Spain), nodes: 25401, fringe: 94\n",
      "1 - University of Eastern Piedmont, nodes: 25403, fringe: 93\n",
      "1 - University of Edinburgh, nodes: 26098, fringe: 92\n",
      "1 - University of Ferrara, nodes: 26117, fringe: 91\n",
      "1 - University of Florence, nodes: 26156, fringe: 90\n",
      "1 - University of Foggia, nodes: 26316, fringe: 89\n",
      "1 - University of Gafsa, nodes: 26318, fringe: 88\n",
      "1 - University of Gastronomic Sciences, nodes: 26337, fringe: 87\n",
      "1 - University of Genoa, nodes: 26536, fringe: 86\n",
      "1 - University of Granada, nodes: 26594, fringe: 85\n",
      "1 - University of Hassan II Casablanca, nodes: 26621, fringe: 84\n",
      "1 - University of Helsinki, nodes: 26793, fringe: 83\n",
      "Error retrieving links from University of Iceland\n",
      "1 - University of Iceland, nodes: 26793, fringe: 82\n",
      "1 - University of Insubria, nodes: 26800, fringe: 81\n",
      "1 - University of International Studies of Rome, nodes: 26800, fringe: 80\n",
      "1 - University of Jendouba, nodes: 26801, fringe: 79\n",
      "1 - University of Jordan, nodes: 26862, fringe: 78\n",
      "1 - University of Kairouan, nodes: 26870, fringe: 77\n",
      "1 - University of L'Aquila, nodes: 26880, fringe: 76\n",
      "1 - University of Latvia, nodes: 26979, fringe: 75\n",
      "1 - University of Lausanne, nodes: 27095, fringe: 74\n",
      "1 - University of Libya, nodes: 27101, fringe: 73\n",
      "1 - University of Lisbon, nodes: 27152, fringe: 72\n",
      "1 - University of Ljubljana, nodes: 27491, fringe: 71\n",
      "1 - University of Macerata, nodes: 27494, fringe: 70\n",
      "1 - University of Malta, nodes: 27534, fringe: 69\n",
      "1 - University of Messina, nodes: 27542, fringe: 68\n",
      "1 - University of Milan, nodes: 27617, fringe: 67\n",
      "1 - University of Milan Bicocca, nodes: 27624, fringe: 66\n",
      "1 - University of Modena and Reggio Emilia, nodes: 27635, fringe: 65\n",
      "1 - University of Molise, nodes: 27637, fringe: 64\n",
      "1 - University of Monastir, nodes: 27649, fringe: 63\n",
      "1 - University of Montenegro, nodes: 27678, fringe: 62\n",
      "1 - University of Mostaganem, nodes: 27680, fringe: 61\n",
      "1 - University of Murcia, nodes: 27685, fringe: 60\n",
      "1 - University of Naples Federico II, nodes: 27812, fringe: 59\n",
      "1 - University of Oran, nodes: 27818, fringe: 58\n",
      "1 - University of Oslo, nodes: 27976, fringe: 57\n",
      "1 - University of Padua, nodes: 28063, fringe: 56\n",
      "1 - University of Palermo, nodes: 28113, fringe: 55\n",
      "1 - University of Paris III: Sorbonne Nouvelle, nodes: 28163, fringe: 54\n",
      "1 - University of Parma, nodes: 28188, fringe: 53\n",
      "1 - University of Passo Fundo, nodes: 28190, fringe: 52\n",
      "1 - University of Pavia, nodes: 28371, fringe: 51\n",
      "1 - University of Perugia, nodes: 28439, fringe: 50\n",
      "1 - University of Pisa, nodes: 28623, fringe: 49\n",
      "1 - University of Poitiers, nodes: 28648, fringe: 48\n",
      "1 - University of Primorska, nodes: 28655, fringe: 47\n",
      "1 - University of Reggio Calabria, nodes: 28680, fringe: 46\n",
      "1 - University of Rome Tor Vergata, nodes: 28706, fringe: 45\n",
      "1 - University of Salento, nodes: 28735, fringe: 44\n",
      "1 - University of Salerno, nodes: 28741, fringe: 43\n",
      "1 - University of Sannio, nodes: 28743, fringe: 42\n",
      "1 - University of Sassari, nodes: 28749, fringe: 41\n",
      "1 - University of Sfax, nodes: 28764, fringe: 40\n",
      "Error retrieving links from University of Siena\n",
      "1 - University of Siena, nodes: 28764, fringe: 39\n",
      "1 - University of Sousse, nodes: 28767, fringe: 38\n",
      "1 - University of Talca, nodes: 28799, fringe: 37\n",
      "1 - University of Teramo, nodes: 28807, fringe: 36\n",
      "1 - University of Tirana, nodes: 28994, fringe: 35\n",
      "1 - University of Trento, nodes: 29018, fringe: 34\n",
      "1 - University of Trieste, nodes: 29122, fringe: 33\n",
      "1 - University of Turin, nodes: 29265, fringe: 32\n",
      "1 - University of Udine, nodes: 29272, fringe: 31\n",
      "1 - University of Urbino, nodes: 29325, fringe: 30\n",
      "1 - University of Valencia, nodes: 29391, fringe: 29\n",
      "1 - University of Valparaíso, nodes: 29676, fringe: 28\n",
      "1 - University of Verona, nodes: 29677, fringe: 27\n",
      "1 - University of Vienna, nodes: 29899, fringe: 26\n",
      "1 - University of Warsaw, nodes: 30238, fringe: 25\n",
      "1 - University of Zagreb, nodes: 30569, fringe: 24\n",
      "1 - University of Évora, nodes: 30583, fringe: 23\n",
      "1 - Università Campus Bio-Medico, nodes: 30618, fringe: 22\n",
      "1 - Università Cattolica del Sacro Cuore, nodes: 30696, fringe: 21\n",
      "1 - Università Iuav di Venezia, nodes: 30819, fringe: 20\n",
      "1 - Università Leonardo da Vinci, nodes: 30819, fringe: 19\n",
      "1 - Università degli Studi Giustino Fortunato, nodes: 30822, fringe: 18\n",
      "1 - Università degli Studi Niccolò Cusano, nodes: 30838, fringe: 17\n",
      "1 - Università degli Studi Pegaso, nodes: 30847, fringe: 16\n",
      "1 - Università degli Studi della Campania Luigi Vanvitelli, nodes: 30847, fringe: 15\n",
      "1 - Università per stranieri \"Dante Alighieri\" di Reggio Calabria, nodes: 30847, fringe: 14\n",
      "1 - Université Constantine 1, nodes: 30847, fringe: 13\n",
      "1 - Université libre de Bruxelles, nodes: 31011, fringe: 12\n",
      "1 - Via Ostiense, nodes: 31086, fringe: 11\n",
      "1 - Vilnius University, nodes: 31264, fringe: 10\n",
      "1 - Virginia Raggi, nodes: 31364, fringe: 9\n",
      "1 - Vita-Salute San Raffaele University, nodes: 31374, fringe: 8\n",
      "1 - Vittorio Cotesta, nodes: 31375, fringe: 7\n",
      "1 - Vrije Universiteit Brussel, nodes: 31489, fringe: 6\n",
      "1 - Webometrics Ranking of World Universities, nodes: 31497, fringe: 5\n",
      "1 - World Factbook, nodes: 31611, fringe: 4\n",
      "1 - École Nationale Polytechnique d'Oran, nodes: 31622, fringe: 3\n",
      "Error retrieving links from École Nationale Supérieure de Sciences Politiques\n",
      "1 - École Nationale Supérieure de Sciences Politiques, nodes: 31622, fringe: 2\n",
      "1 - École Polytechnique Fédérale de Lausanne, nodes: 31808, fringe: 1\n",
      "CPU times: user 25.5 s, sys: 903 ms, total: 26.4 s\n",
      "Wall time: 3min 35s\n"
     ]
    }
   ],
   "execution_count": 15
  },
  {
   "metadata": {
    "ExecuteTime": {
     "end_time": "2024-05-14T08:57:31.085286Z",
     "start_time": "2024-05-14T08:57:30.740398Z"
    }
   },
   "cell_type": "code",
   "source": [
    "#plotting the progress\n",
    "plt.figure(\"Progress\", figsize=(8, 8))\n",
    "plt.plot(progress[\"nodes\"], label=\"Nodes\", color=\"royalblue\", linestyle=\"-\")\n",
    "plt.plot(progress[\"fringe\"], label=\"Fringe\", color=\"salmon\", linestyle=\"--\")\n",
    "# log scale\n",
    "plt.yscale(\"log\")\n",
    "plt.xlabel(\"Iterations\")\n",
    "plt.ylabel(\"Count\")\n",
    "plt.title(\"Progress\")\n",
    "plt.legend()\n",
    "plt.show()\n"
   ],
   "outputs": [
    {
     "data": {
      "text/plain": [
       "<Figure size 800x800 with 1 Axes>"
      ],
      "image/png": "[encoded data removed]"
     },
     "metadata": {},
     "output_type": "display_data"
    }
   ],
   "execution_count": 16
  },
  {
   "cell_type": "code",
   "metadata": {
    "id": "JrtewM_hPqJa",
    "colab": {
     "base_uri": "https://localhost:8080/"
    },
    "outputId": "4ef9d58d-fcef-4e4a-a51e-d96551a6af2a",
    "ExecuteTime": {
     "end_time": "2024-05-14T08:57:31.109528Z",
     "start_time": "2024-05-14T08:57:31.087418Z"
    }
   },
   "source": "print(f\"{g.number_of_nodes()} nodes, {g.number_of_edges()} edges\")",
   "outputs": [
    {
     "name": "stdout",
     "output_type": "stream",
     "text": [
      "32450 nodes, 69436 edges\n"
     ]
    }
   ],
   "execution_count": 17
  },
  {
   "cell_type": "markdown",
   "metadata": {
    "id": "5zRjfGLtZ2qB"
   },
   "source": "## 1.4 Explore the network"
  },
  {
   "cell_type": "code",
   "metadata": {
    "id": "gwlRxZ2kmDL-",
    "colab": {
     "base_uri": "https://localhost:8080/"
    },
    "outputId": "7599c2e8-8756-4ab4-93bb-b941cc9ce467",
    "ExecuteTime": {
     "end_time": "2024-05-14T08:57:31.951393Z",
     "start_time": "2024-05-14T08:57:31.111458Z"
    }
   },
   "source": [
    "import numpy as np\n",
    "\n",
    "degree_sequence = sorted((d for _, d in g.degree()))\n",
    "\n",
    "fig = plt.figure(\"Degree of a random graph\", figsize=(8, 8))\n",
    "# Create a gridspec for adding subplots of different sizes\n",
    "axgrid = fig.add_gridspec(5, 4)\n",
    "\n",
    "ax1 = fig.add_subplot(axgrid[3:, :2])\n",
    "ax1.plot(degree_sequence)\n",
    "ax1.set_title(\"Degree Rank Plot\")\n",
    "ax1.set_ylabel(\"Degree\")\n",
    "ax1.set_yscale(\"log\")\n",
    "ax1.set_xlabel(\"Rank\")\n",
    "\n",
    "ax2 = fig.add_subplot(axgrid[3:, 2:])\n",
    "ax2.bar(*np.unique(degree_sequence, return_counts=True))\n",
    "ax2.set_xlim([0, 100])\n",
    "ax2.set_title(\"Degree histogram\")\n",
    "ax2.set_xlabel(\"Degree\")\n",
    "ax2.set_yscale(\"log\")\n",
    "ax2.set_ylabel(\"# of Nodes\")\n",
    "\n",
    "fig.tight_layout()\n",
    "plt.show()"
   ],
   "outputs": [
    {
     "data": {
      "text/plain": [
       "<Figure size 800x800 with 2 Axes>"
      ],
      "image/png": "[encoded data removed]"
     },
     "metadata": {},
     "output_type": "display_data"
    }
   ],
   "execution_count": 18
  },
  {
   "metadata": {},
   "cell_type": "markdown",
   "source": "## 1.5 Save the graph in Gephi readable format"
  },
  {
   "metadata": {
    "ExecuteTime": {
     "end_time": "2024-05-14T08:57:32.640702Z",
     "start_time": "2024-05-14T08:57:31.952763Z"
    }
   },
   "cell_type": "code",
   "source": "nx.write_gexf(g, f\"graphs/{SEED}_d{SEARCH_DEPTH}.gexf\")",
   "outputs": [],
   "execution_count": 19
  }
 ]
}
